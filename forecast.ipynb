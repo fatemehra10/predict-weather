{
  "nbformat": 4,
  "nbformat_minor": 0,
  "metadata": {
    "colab": {
      "provenance": [],
      "authorship_tag": "ABX9TyOC3QBKliORtH42Bs0uFfnZ",
      "include_colab_link": true
    },
    "kernelspec": {
      "name": "python3",
      "display_name": "Python 3"
    },
    "language_info": {
      "name": "python"
    }
  },
  "cells": [
    {
      "cell_type": "markdown",
      "metadata": {
        "id": "view-in-github",
        "colab_type": "text"
      },
      "source": [
        "<a href=\"https://colab.research.google.com/github/fatemehra10/predict-weather/blob/main/forecast.ipynb\" target=\"_parent\"><img src=\"https://colab.research.google.com/assets/colab-badge.svg\" alt=\"Open In Colab\"/></a>"
      ]
    },
    {
      "cell_type": "code",
      "execution_count": 33,
      "metadata": {
        "id": "JZ1vfp5Qah2Z"
      },
      "outputs": [],
      "source": [
        "# import necessary library\n",
        "import numpy as np\n",
        "import pandas as pd\n",
        "import matplotlib.pyplot as plt\n"
      ]
    },
    {
      "cell_type": "markdown",
      "source": [
        "# Preprocessing"
      ],
      "metadata": {
        "id": "r1Vctm9ncHun"
      }
    },
    {
      "cell_type": "code",
      "source": [
        "#Read data\n",
        "weather = pd.read_csv('weather.csv')\n",
        "weather.head()"
      ],
      "metadata": {
        "colab": {
          "base_uri": "https://localhost:8080/",
          "height": 248
        },
        "id": "Am1s1N0Na1kJ",
        "outputId": "1fba277a-a8f3-4732-f6fe-c4f7c237c5c5"
      },
      "execution_count": 78,
      "outputs": [
        {
          "output_type": "execute_result",
          "data": {
            "text/plain": [
              "    time          date    city   temp    wind  \\\n",
              "0  00:30  January 2023  Abadan  23 °C  7 km/h   \n",
              "1  01:30  January 2023  Abadan  22 °C  4 km/h   \n",
              "2  02:30  January 2023  Abadan  21 °C  4 km/h   \n",
              "3  04:30  January 2023  Abadan  20 °C  4 km/h   \n",
              "4  05:30  January 2023  Abadan  20 °C  4 km/h   \n",
              "\n",
              "                                      wind_direction humidity  barometer  \\\n",
              "0  Wind blowing from 110° East-southeast to West-...      89%  1016 mbar   \n",
              "1  Wind blowing from 150° South-southeast to Nort...      94%  1016 mbar   \n",
              "2       Wind blowing from 40° Northeast to Southwest      94%  1016 mbar   \n",
              "3  Wind blowing from 340° North-northwest to Sout...      94%  1017 mbar   \n",
              "4                 Wind blowing from 80° East to West     100%  1017 mbar   \n",
              "\n",
              "  visibility          weather  \n",
              "0       6 km  Passing clouds.  \n",
              "1       6 km           Clear.  \n",
              "2       6 km           Clear.  \n",
              "3       4 km             Fog.  \n",
              "4       4 km             Fog.  "
            ],
            "text/html": [
              "\n",
              "  <div id=\"df-793dcf46-ce11-4242-bc80-0c1c70099de4\">\n",
              "    <div class=\"colab-df-container\">\n",
              "      <div>\n",
              "<style scoped>\n",
              "    .dataframe tbody tr th:only-of-type {\n",
              "        vertical-align: middle;\n",
              "    }\n",
              "\n",
              "    .dataframe tbody tr th {\n",
              "        vertical-align: top;\n",
              "    }\n",
              "\n",
              "    .dataframe thead th {\n",
              "        text-align: right;\n",
              "    }\n",
              "</style>\n",
              "<table border=\"1\" class=\"dataframe\">\n",
              "  <thead>\n",
              "    <tr style=\"text-align: right;\">\n",
              "      <th></th>\n",
              "      <th>time</th>\n",
              "      <th>date</th>\n",
              "      <th>city</th>\n",
              "      <th>temp</th>\n",
              "      <th>wind</th>\n",
              "      <th>wind_direction</th>\n",
              "      <th>humidity</th>\n",
              "      <th>barometer</th>\n",
              "      <th>visibility</th>\n",
              "      <th>weather</th>\n",
              "    </tr>\n",
              "  </thead>\n",
              "  <tbody>\n",
              "    <tr>\n",
              "      <th>0</th>\n",
              "      <td>00:30</td>\n",
              "      <td>January 2023</td>\n",
              "      <td>Abadan</td>\n",
              "      <td>23 °C</td>\n",
              "      <td>7 km/h</td>\n",
              "      <td>Wind blowing from 110° East-southeast to West-...</td>\n",
              "      <td>89%</td>\n",
              "      <td>1016 mbar</td>\n",
              "      <td>6 km</td>\n",
              "      <td>Passing clouds.</td>\n",
              "    </tr>\n",
              "    <tr>\n",
              "      <th>1</th>\n",
              "      <td>01:30</td>\n",
              "      <td>January 2023</td>\n",
              "      <td>Abadan</td>\n",
              "      <td>22 °C</td>\n",
              "      <td>4 km/h</td>\n",
              "      <td>Wind blowing from 150° South-southeast to Nort...</td>\n",
              "      <td>94%</td>\n",
              "      <td>1016 mbar</td>\n",
              "      <td>6 km</td>\n",
              "      <td>Clear.</td>\n",
              "    </tr>\n",
              "    <tr>\n",
              "      <th>2</th>\n",
              "      <td>02:30</td>\n",
              "      <td>January 2023</td>\n",
              "      <td>Abadan</td>\n",
              "      <td>21 °C</td>\n",
              "      <td>4 km/h</td>\n",
              "      <td>Wind blowing from 40° Northeast to Southwest</td>\n",
              "      <td>94%</td>\n",
              "      <td>1016 mbar</td>\n",
              "      <td>6 km</td>\n",
              "      <td>Clear.</td>\n",
              "    </tr>\n",
              "    <tr>\n",
              "      <th>3</th>\n",
              "      <td>04:30</td>\n",
              "      <td>January 2023</td>\n",
              "      <td>Abadan</td>\n",
              "      <td>20 °C</td>\n",
              "      <td>4 km/h</td>\n",
              "      <td>Wind blowing from 340° North-northwest to Sout...</td>\n",
              "      <td>94%</td>\n",
              "      <td>1017 mbar</td>\n",
              "      <td>4 km</td>\n",
              "      <td>Fog.</td>\n",
              "    </tr>\n",
              "    <tr>\n",
              "      <th>4</th>\n",
              "      <td>05:30</td>\n",
              "      <td>January 2023</td>\n",
              "      <td>Abadan</td>\n",
              "      <td>20 °C</td>\n",
              "      <td>4 km/h</td>\n",
              "      <td>Wind blowing from 80° East to West</td>\n",
              "      <td>100%</td>\n",
              "      <td>1017 mbar</td>\n",
              "      <td>4 km</td>\n",
              "      <td>Fog.</td>\n",
              "    </tr>\n",
              "  </tbody>\n",
              "</table>\n",
              "</div>\n",
              "      <button class=\"colab-df-convert\" onclick=\"convertToInteractive('df-793dcf46-ce11-4242-bc80-0c1c70099de4')\"\n",
              "              title=\"Convert this dataframe to an interactive table.\"\n",
              "              style=\"display:none;\">\n",
              "        \n",
              "  <svg xmlns=\"http://www.w3.org/2000/svg\" height=\"24px\"viewBox=\"0 0 24 24\"\n",
              "       width=\"24px\">\n",
              "    <path d=\"M0 0h24v24H0V0z\" fill=\"none\"/>\n",
              "    <path d=\"M18.56 5.44l.94 2.06.94-2.06 2.06-.94-2.06-.94-.94-2.06-.94 2.06-2.06.94zm-11 1L8.5 8.5l.94-2.06 2.06-.94-2.06-.94L8.5 2.5l-.94 2.06-2.06.94zm10 10l.94 2.06.94-2.06 2.06-.94-2.06-.94-.94-2.06-.94 2.06-2.06.94z\"/><path d=\"M17.41 7.96l-1.37-1.37c-.4-.4-.92-.59-1.43-.59-.52 0-1.04.2-1.43.59L10.3 9.45l-7.72 7.72c-.78.78-.78 2.05 0 2.83L4 21.41c.39.39.9.59 1.41.59.51 0 1.02-.2 1.41-.59l7.78-7.78 2.81-2.81c.8-.78.8-2.07 0-2.86zM5.41 20L4 18.59l7.72-7.72 1.47 1.35L5.41 20z\"/>\n",
              "  </svg>\n",
              "      </button>\n",
              "      \n",
              "  <style>\n",
              "    .colab-df-container {\n",
              "      display:flex;\n",
              "      flex-wrap:wrap;\n",
              "      gap: 12px;\n",
              "    }\n",
              "\n",
              "    .colab-df-convert {\n",
              "      background-color: #E8F0FE;\n",
              "      border: none;\n",
              "      border-radius: 50%;\n",
              "      cursor: pointer;\n",
              "      display: none;\n",
              "      fill: #1967D2;\n",
              "      height: 32px;\n",
              "      padding: 0 0 0 0;\n",
              "      width: 32px;\n",
              "    }\n",
              "\n",
              "    .colab-df-convert:hover {\n",
              "      background-color: #E2EBFA;\n",
              "      box-shadow: 0px 1px 2px rgba(60, 64, 67, 0.3), 0px 1px 3px 1px rgba(60, 64, 67, 0.15);\n",
              "      fill: #174EA6;\n",
              "    }\n",
              "\n",
              "    [theme=dark] .colab-df-convert {\n",
              "      background-color: #3B4455;\n",
              "      fill: #D2E3FC;\n",
              "    }\n",
              "\n",
              "    [theme=dark] .colab-df-convert:hover {\n",
              "      background-color: #434B5C;\n",
              "      box-shadow: 0px 1px 3px 1px rgba(0, 0, 0, 0.15);\n",
              "      filter: drop-shadow(0px 1px 2px rgba(0, 0, 0, 0.3));\n",
              "      fill: #FFFFFF;\n",
              "    }\n",
              "  </style>\n",
              "\n",
              "      <script>\n",
              "        const buttonEl =\n",
              "          document.querySelector('#df-793dcf46-ce11-4242-bc80-0c1c70099de4 button.colab-df-convert');\n",
              "        buttonEl.style.display =\n",
              "          google.colab.kernel.accessAllowed ? 'block' : 'none';\n",
              "\n",
              "        async function convertToInteractive(key) {\n",
              "          const element = document.querySelector('#df-793dcf46-ce11-4242-bc80-0c1c70099de4');\n",
              "          const dataTable =\n",
              "            await google.colab.kernel.invokeFunction('convertToInteractive',\n",
              "                                                     [key], {});\n",
              "          if (!dataTable) return;\n",
              "\n",
              "          const docLinkHtml = 'Like what you see? Visit the ' +\n",
              "            '<a target=\"_blank\" href=https://colab.research.google.com/notebooks/data_table.ipynb>data table notebook</a>'\n",
              "            + ' to learn more about interactive tables.';\n",
              "          element.innerHTML = '';\n",
              "          dataTable['output_type'] = 'display_data';\n",
              "          await google.colab.output.renderOutput(dataTable, element);\n",
              "          const docLink = document.createElement('div');\n",
              "          docLink.innerHTML = docLinkHtml;\n",
              "          element.appendChild(docLink);\n",
              "        }\n",
              "      </script>\n",
              "    </div>\n",
              "  </div>\n",
              "  "
            ]
          },
          "metadata": {},
          "execution_count": 78
        }
      ]
    },
    {
      "cell_type": "code",
      "source": [
        "weather.info()"
      ],
      "metadata": {
        "colab": {
          "base_uri": "https://localhost:8080/"
        },
        "id": "xoMZ58pXnUk_",
        "outputId": "17707ce1-29c8-4ef0-d69a-48b51af4fe67"
      },
      "execution_count": 79,
      "outputs": [
        {
          "output_type": "stream",
          "name": "stdout",
          "text": [
            "<class 'pandas.core.frame.DataFrame'>\n",
            "RangeIndex: 40066 entries, 0 to 40065\n",
            "Data columns (total 10 columns):\n",
            " #   Column          Non-Null Count  Dtype \n",
            "---  ------          --------------  ----- \n",
            " 0   time            40066 non-null  object\n",
            " 1   date            40066 non-null  object\n",
            " 2   city            40066 non-null  object\n",
            " 3   temp            40066 non-null  object\n",
            " 4   wind            40061 non-null  object\n",
            " 5   wind_direction  40066 non-null  object\n",
            " 6   humidity        40065 non-null  object\n",
            " 7   barometer       40062 non-null  object\n",
            " 8   visibility      28073 non-null  object\n",
            " 9   weather         40066 non-null  object\n",
            "dtypes: object(10)\n",
            "memory usage: 3.1+ MB\n"
          ]
        }
      ]
    },
    {
      "cell_type": "code",
      "source": [
        "# Cleaning data\n",
        "weather.temp = weather.temp.apply(lambda x: str(x).replace('°C',''))\n",
        "weather.wind = weather.wind.apply(lambda x: str(x).replace('km/h','').replace('No wind','-1'))\n",
        "weather.humidity = weather.humidity.apply(lambda x: str(x).replace('%',''))\n",
        "weather.barometer = weather.barometer.apply(lambda x: str(x).replace('mbar',''))\n",
        "weather.visibility = weather.visibility.apply(lambda x: str(x).replace('km',''))\n",
        "weather.weather = weather.weather.apply(lambda x: str(x).replace('.',''))"
      ],
      "metadata": {
        "id": "UjYhhR7olwZs"
      },
      "execution_count": 80,
      "outputs": []
    },
    {
      "cell_type": "code",
      "source": [
        "# Convert datatypes\n",
        "weather.time = weather.time.astype('str')\n",
        "weather.date = weather.date.astype('str')\n",
        "weather.city = weather.city.astype('category')\n",
        "weather.temp = weather.temp.astype(int)\n",
        "weather.wind = weather.wind.astype(float)\n",
        "weather.wind_direction = weather.wind_direction.astype('category')\n",
        "weather.humidity = weather.humidity.astype(float)\n",
        "weather.barometer = weather.barometer.astype(float)\n",
        "weather.visibility = weather.visibility.astype(float)\n",
        "weather.weather = weather.weather.astype('category')"
      ],
      "metadata": {
        "id": "ZXU2FiibnX-n"
      },
      "execution_count": 81,
      "outputs": []
    },
    {
      "cell_type": "code",
      "source": [
        "# Rename column name \n",
        "weather.rename(columns = {'temp':'temp(°C)','wind':'wind(km/h)','humidity':'humidity(%)','barometer':\n",
        "                          'barometer(mbar)','visibility':'visibility(km)'},inplace = True)"
      ],
      "metadata": {
        "id": "XMILlStRrzUP"
      },
      "execution_count": 82,
      "outputs": []
    },
    {
      "cell_type": "code",
      "source": [
        "# Handle NAN\n",
        "weather['visibility(km)'].fillna(round(weather['visibility(km)'].mean(),2),inplace = True)\n",
        "weather.dropna(inplace = True)"
      ],
      "metadata": {
        "id": "gY10nsfGt3XW"
      },
      "execution_count": 83,
      "outputs": []
    },
    {
      "cell_type": "code",
      "source": [
        "weather.to_csv('clean_weather.csv',index = False)"
      ],
      "metadata": {
        "id": "bSICrgvIw_Fo"
      },
      "execution_count": 84,
      "outputs": []
    },
    {
      "cell_type": "code",
      "source": [
        "dict_weather = {\n",
        "    'Partly sunny':'Sunny',\n",
        "    'Passing clouds' : 'Overcast',                           \n",
        "    'Scattered clouds' : 'Overcast',\n",
        "    'Broken clouds' :'Overcast',\n",
        "    'Partly cloudy' : 'Overcast',\n",
        "    'More clouds than sun': 'Overcast',\n",
        "    'Mostly cloudy':'Overcast',\n",
        "    'Light rain Mostly cloudy':'Rain-Overcast',\n",
        "    'Ice fog' :'Haze',\n",
        "    'Rain Mostly cloudy':'Rain-Overcast',\n",
        "    'Light rain More clouds than sun': 'Rain-Overcast',\n",
        "    'Light rain Overcast': 'Rain-Overcast',\n",
        "    'Rain Fog' : 'Drizzle Haze',\n",
        "    'Thunderstorms Passing clouds' : 'Thunderstorms-Overcast',\n",
        "    'Light rain Fog' : 'Drizzle Haze',\n",
        "    'Thunderstorms Mostly cloudy':'Thunderstorms-Overcast',\n",
        "    'Thunderstorms Broken clouds':'Thunderstorms-Overcast',\n",
        "    'Low clouds':'Overcast',\n",
        "    'Thunderstorms Scattered clouds':'Thunderstorms-Overcast',\n",
        "    'Rain More clouds than sun':'Rain-Overcast',\n",
        "    'Thundershowers Passing clouds':'Thunderstorms-Overcast',\n",
        "    'Drizzle Mostly cloudy':'Rain-Overcast',\n",
        "    'Thunderstorms More clouds than sun':'Thunderstorms-Overcast',\n",
        "    'Sprinkles More clouds than sun':'Overcast',\n",
        "    'Rain Overcast':'Rain-Overcast',\n",
        "    'Thunderstorms Partly cloudy':'Thunderstorms-Overcast',\n",
        "    'Sprinkles Broken clouds':'Overcast',\n",
        "    'Scattered showers Broken clouds':'Overcast',\n",
        "    'Light snow Mostly cloudy':'Snow-Overcast',\n",
        "    'Cloudy':'Overcast',\n",
        "    'Heavy rain Mostly cloudy':'Rain-Overcast',\n",
        "    'Sprinkles Passing clouds':'Overcast',\n",
        "    'Mild':'Clear',\n",
        "    'Light rain Cloudy':'Rain-Overcast',\n",
        "    'Sprinkles Partly cloudy':'Overcast',\n",
        "    'Sprinkles Mostly cloudy':'Overcast',\n",
        "    'Light rain Partly cloudy':'Rain-Overcast',\n",
        "    'Dense fog':'Haze',\n",
        "    'Light snow Fog':'Snow-Haze',\n",
        "    'Sprinkles Fog':'Haze',\n",
        "    'Scattered showers Scattered clouds':'Rain-Overcast',\n",
        "    'Sprinkles Scattered clouds':'Overcast',     \n",
        "    'Light rain Passing clouds':'Rain-Overcast',\n",
        "    'Thunderstorms Partly sunny':'Thunderstorms-Sunny',\n",
        "    'Light snow Overcast':'Snow-Overcast',\n",
        "    'Rain showers More clouds than sun':'Rain-Overcast',\n",
        "    'Low level haze':'Haze',\n",
        "    'Sprinkles Overcast':'Overcast',\n",
        "    'Thunderstorms Overcast': 'Thunderstorms-Overcast',\n",
        "    'Rain Cloudy':'Rain-Overcast',\n",
        "    'Sprinkles Partly sunny':'Sunny',\n",
        "    'Drizzle Overcast' : 'Rain-Overcast',\n",
        "    'Snow Overcast':'Snow-Overcast',\n",
        "    'Thundershowers Partly cloudy': 'Thunderstorms-Overcast',\n",
        "    'Thundershowers Scattered clouds': 'Thunderstorms-Overcast',\n",
        "    'Drizzle Low clouds':'Rain-Overcast',\n",
        "    'Pleasantly warm':'Sunny',                          \n",
        "    'Light snow Ice fog':'Snow-Haze',\n",
        "    'Rain showers Broken clouds':'Rain-Overcast',\n",
        "    'Light rain Broken clouds' :'Rain-Overcast',\n",
        "    'Scattered showers More clouds than sun':'Rain-Overcast',\n",
        "    'Chilly':'Cold',\n",
        "    'Thundershowers Overcast':'Thunderstorms-Overcast',\n",
        "    'Light snow Cloudy':'Sonw-Overcast',\n",
        "    'Light freezing rain Ice fog':'Rain-Haze',\n",
        "    'Thunderstorms Fog': 'Thunderstorms-Haze',\n",
        "    'Rain showers Mostly cloudy':'Rain-Overcast',\n",
        "    'Scattered showers Passing clouds':'Rain-Overcast',\n",
        "    'Snow Ice fog':'Snow-Haze',\n",
        "    'Scattered showers Partly sunny':'Rain',\n",
        "    'Strong thunderstorms Mostly cloudy':'Thunderstorms-Overcast',\n",
        "    'Hot':'Sunny',\n",
        "    'Fog':'Haze',\n",
        "    'Heavy rain Cloudy':'Rain-Overcast',\n",
        "    'Heavy snow Dense fog':'Snow-Haze',\n",
        "    'Rain showers Partly cloudy':'Rain-Overcast',\n",
        "    'Snow Mostly cloudy':'Snow-Overcast',\n",
        "    'Snow Fog':'Snow-Haze',\n",
        "    'Snow More clouds than sun':'Snow-Overcast',\n",
        "    'Rain showers Fog':'Rain-Haze',\n",
        "    'Rain showers Overcast':'Rain-Overcast',\n",
        "    'Sprinkles Cloudy':'Overcast',\n",
        "    'Rain Broken clouds':'Rain-Overcast',\n",
        "    'Strong thunderstorms Cloudy':'Thunderstorms-Overcast',\n",
        "    'Light fog':'Haze',\n",
        "    'Thunderstorms Cloudy':'Thunderstorms-Overcast',\n",
        "    'Scattered showers Overcast':'Rain-Overcast',\n",
        "    'Rain Partly cloudy':'Rain-Overcast',\n",
        "    'Light rain Scattered clouds':'Rain-Overcast',\n",
        "    'Drizzle Broken clouds':'Rain-Overcast',\n",
        "    'Drizzle Cloudy':'Rain-Overcast',\n",
        "    'Light rain Partly sunny':'Rain',\n",
        "    'Thundershowers Broken clouds':'Thunderstorms-Overcast',\n",
        "    'Light snow More clouds than sun':'Snow-Overcast',\n",
        "    'Heavy rain Fog':'Rain-Haze',\n",
        "    'Strong thunderstorms Broken clouds':'Thunderstorms-Overcast',\n",
        "    'Snow showers Broken clouds':'Snow-Overcast',\n",
        "    'Snow flurries Overcast' :'Snow-Overcast',\n",
        "    'Snow flurries More clouds than sun':'Snow-Overcast',\n",
        "    'Sprinkles Sandstorm':'Sandstorm',\n",
        "    'Rain showers Passing clouds':'Rain-Overcast',\n",
        "    'Mixture of precip Ice fog':'Haze',\n",
        "    'Refreshingly cool':'Cold',\n",
        "    'Mixture of precip Fog':'Haze',\n",
        "    'Light snow Passing clouds':'Snow-Overcast',\n",
        "    'Extremely hot':'Sunny',\n",
        "    'Drizzle Partly sunny':'Rain',\n",
        "    'Rain Low clouds':'Rain-Overcast',\n",
        "    'Light snow Partly cloudy':'Snow-Overcast',\n",
        "    'Light snow Broken clouds':'Snow-Overcast',\n",
        "    'Rain showers Partly sunny':'Rain-Overcast',\n",
        "    'Heavy rain More clouds than sun':'Rain',\n",
        "    'Scattered showers Fog':'Haze',\n",
        "    'Heavy snow Cloudy':'Snow-Overcast',\n",
        "    'Scattered showers Partly cloudy':'Overcast',\n",
        "    'Light rain Ice fog':'Rain-Haze',\n",
        "    'Light mixture of precip Overcast':'Rain-Overcast',\n",
        "    'Thundershowers Mostly cloudy':'Thunderstorms-Overcast',\n",
        "    'Heavy rain Overcast':'Rain-Overcast',\n",
        "    'Light snow Low clouds':'Snow-Overcast',\n",
        "    'Cool':'Cold',\n",
        "    'Light rain Low clouds':'Rain-Overcast',\n",
        "    'Thundershowers Partly sunny':'Thunderstorms-Sunny',\n",
        "    'Heavy snow Fog':'Snow-Haze',\n",
        "    'Lots of rain Fog':'Rain-Haze',\n",
        "    'Light rain Sandstorm':'Rain',\n",
        "    'Snow Broken clouds':'Snow-Overcast',\n",
        "    'Lots of rain Partly sunny':'Rain',\n",
        "    'Strong thunderstorms Partly cloudy':'Thunderstorms-Overcast',\n",
        "    'Snow flurries Cloudy':'Snow-Overcast',\n",
        "    'Hail Mostly cloudy':'Rain-Overcast',\n",
        "    'Rain Passing clouds':'Rain-Overcast',\n",
        "    'Rain Scattered clouds':'Rain-Overcast',\n",
        "    'Rain showers Cloudy':'Rain-Overcast',\n",
        "    'Heavy snow Overcast':'Snow-Overcast',\n",
        "    'Scattered showers Mostly cloudy':'Rain-Overcast',\n",
        "    'Snow showers Overcast':'Snow-Overcast',\n",
        "    'Snow flurries Scattered clouds':'Snow-Overcast',\n",
        "    'Snow flurries Passing clouds':'Snow-Overcast',\n",
        "    'Snow flurries Partly cloudy':'Snow-Overcast',\n",
        "    'Sleet Haze':'Haze',\n",
        "    'Sleet Mostly cloudy':'Snow-Overcast',\n",
        "    'Heavy snow Ice fog':'Snow-Haze',\n",
        "    'Drizzle Haze':'Rain-Haze',\n",
        "    'Drizzle Fog':'Rain-Haze',\n",
        "    'Sandstorm':'Duststorm'\n",
        "\n",
        "}\n",
        "\n"
      ],
      "metadata": {
        "id": "87nfGeUK8GWj"
      },
      "execution_count": 91,
      "outputs": []
    },
    {
      "cell_type": "code",
      "source": [
        "def clean_target(x):\n",
        "  if x in dict_weather.keys():\n",
        "    return dict_weather[x]\n",
        "  else:\n",
        "    return x\n",
        "\n",
        "weather.weather = weather.weather.apply(clean_target)"
      ],
      "metadata": {
        "id": "_j4YlhPp2ke8"
      },
      "execution_count": 92,
      "outputs": []
    },
    {
      "cell_type": "code",
      "source": [],
      "metadata": {
        "id": "LP5Y4wVcPAcH"
      },
      "execution_count": 92,
      "outputs": []
    },
    {
      "cell_type": "code",
      "source": [
        "weather.weather.value_counts()"
      ],
      "metadata": {
        "colab": {
          "base_uri": "https://localhost:8080/"
        },
        "id": "GoRwP2rgNjVZ",
        "outputId": "e9fd7d2e-be97-416a-e1c6-0cb2871f73dc"
      },
      "execution_count": 93,
      "outputs": [
        {
          "output_type": "execute_result",
          "data": {
            "text/plain": [
              "Overcast                  14555\n",
              "Clear                     10683\n",
              "Sunny                     10176\n",
              "Haze                       3080\n",
              "Rain-Overcast               731\n",
              "Thunderstorms-Overcast      309\n",
              "Duststorm                   179\n",
              "Rain-Haze                   165\n",
              "Snow-Overcast                78\n",
              "Snow-Haze                    43\n",
              "Cold                         16\n",
              "Rain                         15\n",
              "Thunderstorms-Sunny          13\n",
              "Thunderstorms-Haze            7\n",
              "Sonw-Overcast                 7\n",
              "Name: weather, dtype: int64"
            ]
          },
          "metadata": {},
          "execution_count": 93
        }
      ]
    },
    {
      "cell_type": "markdown",
      "source": [
        "# Exploratory Analysis"
      ],
      "metadata": {
        "id": "OggIJ07n0k0p"
      }
    },
    {
      "cell_type": "code",
      "source": [],
      "metadata": {
        "id": "mE3ENkmJyr-I"
      },
      "execution_count": null,
      "outputs": []
    },
    {
      "cell_type": "markdown",
      "source": [
        "# Reduction dimension"
      ],
      "metadata": {
        "id": "dGJqVa9C02xG"
      }
    },
    {
      "cell_type": "code",
      "source": [],
      "metadata": {
        "id": "hewQsAlb07X6"
      },
      "execution_count": null,
      "outputs": []
    },
    {
      "cell_type": "markdown",
      "source": [
        "# Classification"
      ],
      "metadata": {
        "id": "EsJzhjcJ08Yd"
      }
    },
    {
      "cell_type": "code",
      "source": [],
      "metadata": {
        "id": "D4r-yZ041IZb"
      },
      "execution_count": null,
      "outputs": []
    }
  ]
}