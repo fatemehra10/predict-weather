{
  "nbformat": 4,
  "nbformat_minor": 0,
  "metadata": {
    "colab": {
      "provenance": [],
      "authorship_tag": "ABX9TyP5IqeRUGD3q/SyO4f30zwN",
      "include_colab_link": true
    },
    "kernelspec": {
      "name": "python3",
      "display_name": "Python 3"
    },
    "language_info": {
      "name": "python"
    }
  },
  "cells": [
    {
      "cell_type": "markdown",
      "metadata": {
        "id": "view-in-github",
        "colab_type": "text"
      },
      "source": [
        "<a href=\"https://colab.research.google.com/github/fatemehra10/predict-weather/blob/main/predict_weather.ipynb\" target=\"_parent\"><img src=\"https://colab.research.google.com/assets/colab-badge.svg\" alt=\"Open In Colab\"/></a>"
      ]
    },
    {
      "cell_type": "code",
      "execution_count": 24,
      "metadata": {
        "id": "JZ1vfp5Qah2Z"
      },
      "outputs": [],
      "source": [
        "# import necessary library\n",
        "import numpy as np\n",
        "import pandas as pd\n",
        "import matplotlib.pyplot as plt\n"
      ]
    },
    {
      "cell_type": "markdown",
      "source": [
        "# Preprocessing"
      ],
      "metadata": {
        "id": "r1Vctm9ncHun"
      }
    },
    {
      "cell_type": "code",
      "source": [
        "#Read data\n",
        "weather = pd.read_csv('weather.csv')\n",
        "weather.head()"
      ],
      "metadata": {
        "colab": {
          "base_uri": "https://localhost:8080/",
          "height": 248
        },
        "id": "Am1s1N0Na1kJ",
        "outputId": "6356c7bd-0a99-4581-c0b5-45f8999f159f"
      },
      "execution_count": 25,
      "outputs": [
        {
          "output_type": "execute_result",
          "data": {
            "text/plain": [
              "    time          date    city   temp    wind  \\\n",
              "0  00:30  January 2023  Abadan  23 °C  7 km/h   \n",
              "1  01:30  January 2023  Abadan  22 °C  4 km/h   \n",
              "2  02:30  January 2023  Abadan  21 °C  4 km/h   \n",
              "3  04:30  January 2023  Abadan  20 °C  4 km/h   \n",
              "4  05:30  January 2023  Abadan  20 °C  4 km/h   \n",
              "\n",
              "                                      wind_direction humidity  barometer  \\\n",
              "0  Wind blowing from 110° East-southeast to West-...      89%  1016 mbar   \n",
              "1  Wind blowing from 150° South-southeast to Nort...      94%  1016 mbar   \n",
              "2       Wind blowing from 40° Northeast to Southwest      94%  1016 mbar   \n",
              "3  Wind blowing from 340° North-northwest to Sout...      94%  1017 mbar   \n",
              "4                 Wind blowing from 80° East to West     100%  1017 mbar   \n",
              "\n",
              "  visibility          weather  \n",
              "0       6 km  Passing clouds.  \n",
              "1       6 km           Clear.  \n",
              "2       6 km           Clear.  \n",
              "3       4 km             Fog.  \n",
              "4       4 km             Fog.  "
            ],
            "text/html": [
              "\n",
              "  <div id=\"df-fa7e011f-21ac-4045-b698-6fb489a9cae2\">\n",
              "    <div class=\"colab-df-container\">\n",
              "      <div>\n",
              "<style scoped>\n",
              "    .dataframe tbody tr th:only-of-type {\n",
              "        vertical-align: middle;\n",
              "    }\n",
              "\n",
              "    .dataframe tbody tr th {\n",
              "        vertical-align: top;\n",
              "    }\n",
              "\n",
              "    .dataframe thead th {\n",
              "        text-align: right;\n",
              "    }\n",
              "</style>\n",
              "<table border=\"1\" class=\"dataframe\">\n",
              "  <thead>\n",
              "    <tr style=\"text-align: right;\">\n",
              "      <th></th>\n",
              "      <th>time</th>\n",
              "      <th>date</th>\n",
              "      <th>city</th>\n",
              "      <th>temp</th>\n",
              "      <th>wind</th>\n",
              "      <th>wind_direction</th>\n",
              "      <th>humidity</th>\n",
              "      <th>barometer</th>\n",
              "      <th>visibility</th>\n",
              "      <th>weather</th>\n",
              "    </tr>\n",
              "  </thead>\n",
              "  <tbody>\n",
              "    <tr>\n",
              "      <th>0</th>\n",
              "      <td>00:30</td>\n",
              "      <td>January 2023</td>\n",
              "      <td>Abadan</td>\n",
              "      <td>23 °C</td>\n",
              "      <td>7 km/h</td>\n",
              "      <td>Wind blowing from 110° East-southeast to West-...</td>\n",
              "      <td>89%</td>\n",
              "      <td>1016 mbar</td>\n",
              "      <td>6 km</td>\n",
              "      <td>Passing clouds.</td>\n",
              "    </tr>\n",
              "    <tr>\n",
              "      <th>1</th>\n",
              "      <td>01:30</td>\n",
              "      <td>January 2023</td>\n",
              "      <td>Abadan</td>\n",
              "      <td>22 °C</td>\n",
              "      <td>4 km/h</td>\n",
              "      <td>Wind blowing from 150° South-southeast to Nort...</td>\n",
              "      <td>94%</td>\n",
              "      <td>1016 mbar</td>\n",
              "      <td>6 km</td>\n",
              "      <td>Clear.</td>\n",
              "    </tr>\n",
              "    <tr>\n",
              "      <th>2</th>\n",
              "      <td>02:30</td>\n",
              "      <td>January 2023</td>\n",
              "      <td>Abadan</td>\n",
              "      <td>21 °C</td>\n",
              "      <td>4 km/h</td>\n",
              "      <td>Wind blowing from 40° Northeast to Southwest</td>\n",
              "      <td>94%</td>\n",
              "      <td>1016 mbar</td>\n",
              "      <td>6 km</td>\n",
              "      <td>Clear.</td>\n",
              "    </tr>\n",
              "    <tr>\n",
              "      <th>3</th>\n",
              "      <td>04:30</td>\n",
              "      <td>January 2023</td>\n",
              "      <td>Abadan</td>\n",
              "      <td>20 °C</td>\n",
              "      <td>4 km/h</td>\n",
              "      <td>Wind blowing from 340° North-northwest to Sout...</td>\n",
              "      <td>94%</td>\n",
              "      <td>1017 mbar</td>\n",
              "      <td>4 km</td>\n",
              "      <td>Fog.</td>\n",
              "    </tr>\n",
              "    <tr>\n",
              "      <th>4</th>\n",
              "      <td>05:30</td>\n",
              "      <td>January 2023</td>\n",
              "      <td>Abadan</td>\n",
              "      <td>20 °C</td>\n",
              "      <td>4 km/h</td>\n",
              "      <td>Wind blowing from 80° East to West</td>\n",
              "      <td>100%</td>\n",
              "      <td>1017 mbar</td>\n",
              "      <td>4 km</td>\n",
              "      <td>Fog.</td>\n",
              "    </tr>\n",
              "  </tbody>\n",
              "</table>\n",
              "</div>\n",
              "      <button class=\"colab-df-convert\" onclick=\"convertToInteractive('df-fa7e011f-21ac-4045-b698-6fb489a9cae2')\"\n",
              "              title=\"Convert this dataframe to an interactive table.\"\n",
              "              style=\"display:none;\">\n",
              "        \n",
              "  <svg xmlns=\"http://www.w3.org/2000/svg\" height=\"24px\"viewBox=\"0 0 24 24\"\n",
              "       width=\"24px\">\n",
              "    <path d=\"M0 0h24v24H0V0z\" fill=\"none\"/>\n",
              "    <path d=\"M18.56 5.44l.94 2.06.94-2.06 2.06-.94-2.06-.94-.94-2.06-.94 2.06-2.06.94zm-11 1L8.5 8.5l.94-2.06 2.06-.94-2.06-.94L8.5 2.5l-.94 2.06-2.06.94zm10 10l.94 2.06.94-2.06 2.06-.94-2.06-.94-.94-2.06-.94 2.06-2.06.94z\"/><path d=\"M17.41 7.96l-1.37-1.37c-.4-.4-.92-.59-1.43-.59-.52 0-1.04.2-1.43.59L10.3 9.45l-7.72 7.72c-.78.78-.78 2.05 0 2.83L4 21.41c.39.39.9.59 1.41.59.51 0 1.02-.2 1.41-.59l7.78-7.78 2.81-2.81c.8-.78.8-2.07 0-2.86zM5.41 20L4 18.59l7.72-7.72 1.47 1.35L5.41 20z\"/>\n",
              "  </svg>\n",
              "      </button>\n",
              "      \n",
              "  <style>\n",
              "    .colab-df-container {\n",
              "      display:flex;\n",
              "      flex-wrap:wrap;\n",
              "      gap: 12px;\n",
              "    }\n",
              "\n",
              "    .colab-df-convert {\n",
              "      background-color: #E8F0FE;\n",
              "      border: none;\n",
              "      border-radius: 50%;\n",
              "      cursor: pointer;\n",
              "      display: none;\n",
              "      fill: #1967D2;\n",
              "      height: 32px;\n",
              "      padding: 0 0 0 0;\n",
              "      width: 32px;\n",
              "    }\n",
              "\n",
              "    .colab-df-convert:hover {\n",
              "      background-color: #E2EBFA;\n",
              "      box-shadow: 0px 1px 2px rgba(60, 64, 67, 0.3), 0px 1px 3px 1px rgba(60, 64, 67, 0.15);\n",
              "      fill: #174EA6;\n",
              "    }\n",
              "\n",
              "    [theme=dark] .colab-df-convert {\n",
              "      background-color: #3B4455;\n",
              "      fill: #D2E3FC;\n",
              "    }\n",
              "\n",
              "    [theme=dark] .colab-df-convert:hover {\n",
              "      background-color: #434B5C;\n",
              "      box-shadow: 0px 1px 3px 1px rgba(0, 0, 0, 0.15);\n",
              "      filter: drop-shadow(0px 1px 2px rgba(0, 0, 0, 0.3));\n",
              "      fill: #FFFFFF;\n",
              "    }\n",
              "  </style>\n",
              "\n",
              "      <script>\n",
              "        const buttonEl =\n",
              "          document.querySelector('#df-fa7e011f-21ac-4045-b698-6fb489a9cae2 button.colab-df-convert');\n",
              "        buttonEl.style.display =\n",
              "          google.colab.kernel.accessAllowed ? 'block' : 'none';\n",
              "\n",
              "        async function convertToInteractive(key) {\n",
              "          const element = document.querySelector('#df-fa7e011f-21ac-4045-b698-6fb489a9cae2');\n",
              "          const dataTable =\n",
              "            await google.colab.kernel.invokeFunction('convertToInteractive',\n",
              "                                                     [key], {});\n",
              "          if (!dataTable) return;\n",
              "\n",
              "          const docLinkHtml = 'Like what you see? Visit the ' +\n",
              "            '<a target=\"_blank\" href=https://colab.research.google.com/notebooks/data_table.ipynb>data table notebook</a>'\n",
              "            + ' to learn more about interactive tables.';\n",
              "          element.innerHTML = '';\n",
              "          dataTable['output_type'] = 'display_data';\n",
              "          await google.colab.output.renderOutput(dataTable, element);\n",
              "          const docLink = document.createElement('div');\n",
              "          docLink.innerHTML = docLinkHtml;\n",
              "          element.appendChild(docLink);\n",
              "        }\n",
              "      </script>\n",
              "    </div>\n",
              "  </div>\n",
              "  "
            ]
          },
          "metadata": {},
          "execution_count": 25
        }
      ]
    },
    {
      "cell_type": "code",
      "source": [
        "weather.info()"
      ],
      "metadata": {
        "colab": {
          "base_uri": "https://localhost:8080/"
        },
        "id": "xoMZ58pXnUk_",
        "outputId": "6e40b324-0000-4a44-ec01-b3a59553481c"
      },
      "execution_count": 26,
      "outputs": [
        {
          "output_type": "stream",
          "name": "stdout",
          "text": [
            "<class 'pandas.core.frame.DataFrame'>\n",
            "RangeIndex: 40066 entries, 0 to 40065\n",
            "Data columns (total 10 columns):\n",
            " #   Column          Non-Null Count  Dtype \n",
            "---  ------          --------------  ----- \n",
            " 0   time            40066 non-null  object\n",
            " 1   date            40066 non-null  object\n",
            " 2   city            40066 non-null  object\n",
            " 3   temp            40066 non-null  object\n",
            " 4   wind            40061 non-null  object\n",
            " 5   wind_direction  40066 non-null  object\n",
            " 6   humidity        40065 non-null  object\n",
            " 7   barometer       40062 non-null  object\n",
            " 8   visibility      28073 non-null  object\n",
            " 9   weather         40066 non-null  object\n",
            "dtypes: object(10)\n",
            "memory usage: 3.1+ MB\n"
          ]
        }
      ]
    },
    {
      "cell_type": "code",
      "source": [
        "# Cleaning data\n",
        "weather.temp = weather.temp.apply(lambda x: str(x).replace('°C',''))\n",
        "weather.wind = weather.wind.apply(lambda x: str(x).replace('km/h','').replace('No wind','-1'))\n",
        "weather.humidity = weather.humidity.apply(lambda x: str(x).replace('%',''))\n",
        "weather.barometer = weather.barometer.apply(lambda x: str(x).replace('mbar',''))\n",
        "weather.visibility = weather.visibility.apply(lambda x: str(x).replace('km',''))\n",
        "weather.weather = weather.weather.apply(lambda x: str(x).replace('.',''))"
      ],
      "metadata": {
        "id": "UjYhhR7olwZs"
      },
      "execution_count": 27,
      "outputs": []
    },
    {
      "cell_type": "code",
      "source": [
        "# Convert datatypes\n",
        "weather.time = weather.time.astype('str')\n",
        "weather.date = weather.date.astype('str')\n",
        "weather.city = weather.city.astype('category')\n",
        "weather.temp = weather.temp.astype(int)\n",
        "weather.wind = weather.wind.astype(float)\n",
        "weather.wind_direction = weather.wind_direction.astype('category')\n",
        "weather.humidity = weather.humidity.astype(float)\n",
        "weather.barometer = weather.barometer.astype(float)\n",
        "weather.visibility = weather.visibility.astype(float)\n",
        "weather.weather = weather.weather.astype('category')"
      ],
      "metadata": {
        "id": "ZXU2FiibnX-n"
      },
      "execution_count": 28,
      "outputs": []
    },
    {
      "cell_type": "code",
      "source": [
        "# Rename column name \n",
        "weather.rename(columns = {'temp':'temp(°C)','wind':'wind(km/h)','humidity':'humidity(%)','barometer':\n",
        "                          'barometer(mbar)','visibility':'visibility(km)'},inplace = True)"
      ],
      "metadata": {
        "id": "XMILlStRrzUP"
      },
      "execution_count": 29,
      "outputs": []
    },
    {
      "cell_type": "code",
      "source": [
        "# Handle NAN\n",
        "weather['visibility(km)'].fillna(round(weather['visibility(km)'].mean(),2),inplace = True)\n",
        "weather.dropna(inplace = True)"
      ],
      "metadata": {
        "id": "gY10nsfGt3XW"
      },
      "execution_count": 30,
      "outputs": []
    },
    {
      "cell_type": "code",
      "source": [
        "weather.to_csv('clean_weather.csv',index = False)"
      ],
      "metadata": {
        "id": "bSICrgvIw_Fo"
      },
      "execution_count": 31,
      "outputs": []
    },
    {
      "cell_type": "code",
      "source": [],
      "metadata": {
        "id": "mE3ENkmJyr-I"
      },
      "execution_count": null,
      "outputs": []
    }
  ]
}